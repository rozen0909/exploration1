{
 "cells": [
  {
   "cell_type": "markdown",
   "id": "adult-christopher",
   "metadata": {},
   "source": [
    "# 1. 추상적 요약"
   ]
  },
  {
   "cell_type": "code",
   "execution_count": 13,
   "id": "common-indicator",
   "metadata": {},
   "outputs": [
    {
     "name": "stderr",
     "output_type": "stream",
     "text": [
      "[nltk_data] Downloading package stopwords to /aiffel/nltk_data...\n",
      "[nltk_data]   Package stopwords is already up-to-date!\n"
     ]
    }
   ],
   "source": [
    "import nltk\n",
    "nltk.download('stopwords')\n",
    "\n",
    "import numpy as np\n",
    "import pandas as pd\n",
    "import os\n",
    "import re\n",
    "import matplotlib.pyplot as plt\n",
    "from nltk.corpus import stopwords\n",
    "from bs4 import BeautifulSoup \n",
    "from tensorflow.keras.preprocessing.text import Tokenizer \n",
    "from tensorflow.keras.preprocessing.sequence import pad_sequences\n",
    "import urllib.request"
   ]
  },
  {
   "cell_type": "code",
   "execution_count": 2,
   "id": "qualified-keeping",
   "metadata": {},
   "outputs": [],
   "source": [
    "import urllib.request\n",
    "import pandas as pd\n",
    "\n",
    "urllib.request.urlretrieve(\"https://raw.githubusercontent.com/sunnysai12345/News_Summary/master/news_summary_more.csv\", filename=\"news_summary_more.csv\")\n",
    "data = pd.read_csv('news_summary_more.csv', encoding='iso-8859-1')"
   ]
  },
  {
   "cell_type": "code",
   "execution_count": 11,
   "id": "athletic-meaning",
   "metadata": {},
   "outputs": [
    {
     "data": {
      "text/html": [
       "<div>\n",
       "<style scoped>\n",
       "    .dataframe tbody tr th:only-of-type {\n",
       "        vertical-align: middle;\n",
       "    }\n",
       "\n",
       "    .dataframe tbody tr th {\n",
       "        vertical-align: top;\n",
       "    }\n",
       "\n",
       "    .dataframe thead th {\n",
       "        text-align: right;\n",
       "    }\n",
       "</style>\n",
       "<table border=\"1\" class=\"dataframe\">\n",
       "  <thead>\n",
       "    <tr style=\"text-align: right;\">\n",
       "      <th></th>\n",
       "      <th>headlines</th>\n",
       "      <th>text</th>\n",
       "    </tr>\n",
       "  </thead>\n",
       "  <tbody>\n",
       "    <tr>\n",
       "      <th>58807</th>\n",
       "      <td>CM Mamata praises President Kovind's 'low prof...</td>\n",
       "      <td>Praising President Ram Nath Kovind for maintai...</td>\n",
       "    </tr>\n",
       "    <tr>\n",
       "      <th>61335</th>\n",
       "      <td>Prince Harry accused of breaking military rule...</td>\n",
       "      <td>Britain's Prince Harry has been accused of bre...</td>\n",
       "    </tr>\n",
       "    <tr>\n",
       "      <th>33796</th>\n",
       "      <td>Why is 1729 known as Ramanujan's number?</td>\n",
       "      <td>The number 1729 is known as the Hardy-Ramanuja...</td>\n",
       "    </tr>\n",
       "  </tbody>\n",
       "</table>\n",
       "</div>"
      ],
      "text/plain": [
       "                                               headlines  \\\n",
       "58807  CM Mamata praises President Kovind's 'low prof...   \n",
       "61335  Prince Harry accused of breaking military rule...   \n",
       "33796           Why is 1729 known as Ramanujan's number?   \n",
       "\n",
       "                                                    text  \n",
       "58807  Praising President Ram Nath Kovind for maintai...  \n",
       "61335  Britain's Prince Harry has been accused of bre...  \n",
       "33796  The number 1729 is known as the Hardy-Ramanuja...  "
      ]
     },
     "execution_count": 11,
     "metadata": {},
     "output_type": "execute_result"
    }
   ],
   "source": [
    "data.sample(3)"
   ]
  },
  {
   "cell_type": "markdown",
   "id": "strange-application",
   "metadata": {},
   "source": [
    "## (1) 전처리하기"
   ]
  },
  {
   "cell_type": "code",
   "execution_count": 5,
   "id": "official-chapel",
   "metadata": {},
   "outputs": [
    {
     "name": "stdout",
     "output_type": "stream",
     "text": [
      "전체 샘플수 : 98360\n"
     ]
    }
   ],
   "source": [
    "data.drop_duplicates(subset = ['text'], inplace=True)\n",
    "print('전체 샘플수 :', (len(data)))"
   ]
  },
  {
   "cell_type": "code",
   "execution_count": 6,
   "id": "mounted-anger",
   "metadata": {},
   "outputs": [
    {
     "name": "stdout",
     "output_type": "stream",
     "text": [
      "headlines    0\n",
      "text         0\n",
      "dtype: int64\n"
     ]
    }
   ],
   "source": [
    "print(data.isnull().sum())"
   ]
  },
  {
   "cell_type": "code",
   "execution_count": 7,
   "id": "extreme-commerce",
   "metadata": {},
   "outputs": [],
   "source": [
    "contractions = {\"ain't\": \"is not\", \"aren't\": \"are not\",\"can't\": \"cannot\", \"'cause\": \"because\", \"could've\": \"could have\", \"couldn't\": \"could not\",\n",
    "                           \"didn't\": \"did not\",  \"doesn't\": \"does not\", \"don't\": \"do not\", \"hadn't\": \"had not\", \"hasn't\": \"has not\", \"haven't\": \"have not\",\n",
    "                           \"he'd\": \"he would\",\"he'll\": \"he will\", \"he's\": \"he is\", \"how'd\": \"how did\", \"how'd'y\": \"how do you\", \"how'll\": \"how will\", \"how's\": \"how is\",\n",
    "                           \"I'd\": \"I would\", \"I'd've\": \"I would have\", \"I'll\": \"I will\", \"I'll've\": \"I will have\",\"I'm\": \"I am\", \"I've\": \"I have\", \"i'd\": \"i would\",\n",
    "                           \"i'd've\": \"i would have\", \"i'll\": \"i will\",  \"i'll've\": \"i will have\",\"i'm\": \"i am\", \"i've\": \"i have\", \"isn't\": \"is not\", \"it'd\": \"it would\",\n",
    "                           \"it'd've\": \"it would have\", \"it'll\": \"it will\", \"it'll've\": \"it will have\",\"it's\": \"it is\", \"let's\": \"let us\", \"ma'am\": \"madam\",\n",
    "                           \"mayn't\": \"may not\", \"might've\": \"might have\",\"mightn't\": \"might not\",\"mightn't've\": \"might not have\", \"must've\": \"must have\",\n",
    "                           \"mustn't\": \"must not\", \"mustn't've\": \"must not have\", \"needn't\": \"need not\", \"needn't've\": \"need not have\",\"o'clock\": \"of the clock\",\n",
    "                           \"oughtn't\": \"ought not\", \"oughtn't've\": \"ought not have\", \"shan't\": \"shall not\", \"sha'n't\": \"shall not\", \"shan't've\": \"shall not have\",\n",
    "                           \"she'd\": \"she would\", \"she'd've\": \"she would have\", \"she'll\": \"she will\", \"she'll've\": \"she will have\", \"she's\": \"she is\",\n",
    "                           \"should've\": \"should have\", \"shouldn't\": \"should not\", \"shouldn't've\": \"should not have\", \"so've\": \"so have\",\"so's\": \"so as\",\n",
    "                           \"this's\": \"this is\",\"that'd\": \"that would\", \"that'd've\": \"that would have\", \"that's\": \"that is\", \"there'd\": \"there would\",\n",
    "                           \"there'd've\": \"there would have\", \"there's\": \"there is\", \"here's\": \"here is\",\"they'd\": \"they would\", \"they'd've\": \"they would have\",\n",
    "                           \"they'll\": \"they will\", \"they'll've\": \"they will have\", \"they're\": \"they are\", \"they've\": \"they have\", \"to've\": \"to have\",\n",
    "                           \"wasn't\": \"was not\", \"we'd\": \"we would\", \"we'd've\": \"we would have\", \"we'll\": \"we will\", \"we'll've\": \"we will have\", \"we're\": \"we are\",\n",
    "                           \"we've\": \"we have\", \"weren't\": \"were not\", \"what'll\": \"what will\", \"what'll've\": \"what will have\", \"what're\": \"what are\",\n",
    "                           \"what's\": \"what is\", \"what've\": \"what have\", \"when's\": \"when is\", \"when've\": \"when have\", \"where'd\": \"where did\", \"where's\": \"where is\",\n",
    "                           \"where've\": \"where have\", \"who'll\": \"who will\", \"who'll've\": \"who will have\", \"who's\": \"who is\", \"who've\": \"who have\",\n",
    "                           \"why's\": \"why is\", \"why've\": \"why have\", \"will've\": \"will have\", \"won't\": \"will not\", \"won't've\": \"will not have\",\n",
    "                           \"would've\": \"would have\", \"wouldn't\": \"would not\", \"wouldn't've\": \"would not have\", \"y'all\": \"you all\",\n",
    "                           \"y'all'd\": \"you all would\",\"y'all'd've\": \"you all would have\",\"y'all're\": \"you all are\",\"y'all've\": \"you all have\",\n",
    "                           \"you'd\": \"you would\", \"you'd've\": \"you would have\", \"you'll\": \"you will\", \"you'll've\": \"you will have\",\n",
    "                           \"you're\": \"you are\", \"you've\": \"you have\"}"
   ]
  },
  {
   "cell_type": "code",
   "execution_count": 8,
   "id": "relative-rolling",
   "metadata": {},
   "outputs": [],
   "source": [
    "# 데이터 전처리 함수\n",
    "def preprocess_sentence(sentence, remove_stopwords=True):\n",
    "    sentence = sentence.lower() # 텍스트 소문자화\n",
    "    sentence = BeautifulSoup(sentence, \"lxml\").text # <br />, <a href = ...> 등의 html 태그 제거\n",
    "    sentence = re.sub(r'\\([^)]*\\)', '', sentence) # 괄호로 닫힌 문자열 (...) 제거 Ex) my husband (and myself!) for => my husband for\n",
    "    sentence = re.sub('\"','', sentence) # 쌍따옴표 \" 제거\n",
    "    sentence = ' '.join([contractions[t] if t in contractions else t for t in sentence.split(\" \")]) # 약어 정규화\n",
    "    sentence = re.sub(r\"'s\\b\",\"\", sentence) # 소유격 제거. Ex) roland's -> roland\n",
    "    sentence = re.sub(\"[^a-zA-Z]\", \" \", sentence) # 영어 외 문자(숫자, 특수문자 등) 공백으로 변환\n",
    "    sentence = re.sub('[m]{2,}', 'mm', sentence) # m이 3개 이상이면 2개로 변경. Ex) ummmmmmm yeah -> umm yeah\n",
    "    \n",
    "    # 불용어 제거 (Text)\n",
    "    if remove_stopwords:\n",
    "        tokens = ' '.join(word for word in sentence.split() if not word in stopwords.words('english') if len(word) > 1)\n",
    "    # 불용어 미제거 (Summary)\n",
    "    else:\n",
    "        tokens = ' '.join(word for word in sentence.split() if len(word) > 1)\n",
    "    return tokens"
   ]
  },
  {
   "cell_type": "code",
   "execution_count": 14,
   "id": "assisted-exhibit",
   "metadata": {},
   "outputs": [
    {
     "name": "stdout",
     "output_type": "stream",
     "text": [
      "209.02240777015686  seconds\n",
      "['saurav kant alumnus upgrad iiit pg program machine learning artificial intelligence sr systems engineer infosys almost years work experience program upgrad degree career support helped transition data scientist tech mahindra salary hike upgrad online power learning powered lakh careers'\n",
      " 'kunal shah credit card bill payment platform cred gave users chance win free food swiggy one year pranav kaushik delhi techie bagged reward spending cred coins users get one cred coin per rupee bill paid used avail rewards brands like ixigo bookmyshow ubereats cult fit'\n",
      " 'new zealand defeated india wickets fourth odi hamilton thursday win first match five match odi series india lost international match rohit sharma captaincy consecutive victories dating back march match witnessed india getting seventh lowest total odi cricket history'\n",
      " ...\n",
      " 'according reports new version science fiction film matrix development michael jordan reportedly play lead role film screenwriter zak penn talks write script film reports added actor keanu reeves starred original film followed two sequels'\n",
      " 'new music video shows rapper snoop dogg aiming toy gun clown character parodying us president donald trump video also shows tv airing news conference headline ronald klump wants deport doggs airing live clown house video remixed version song lavender'\n",
      " 'madhesi morcha alliance seven political parties withdrawn support pm pushpa kamal dahal led nepal government failed meet seven day ultimatum fulfil demands including endorsement revised constitution amendment bill morcha seats parliament despite withdrawal support immediate threat government']\n",
      "7.338767766952515  seconds\n",
      "['upgrad learner switches to career in ml al with salary hike'\n",
      " 'delhi techie wins free food from swiggy for one year on cred'\n",
      " 'new zealand end rohit sharma led india match winning streak' ...\n",
      " 'the matrix film to get reboot reports'\n",
      " 'snoop dogg aims gun at clown dressed as trump in new video'\n",
      " 'madhesi morcha withdraws support to nepalese government']\n"
     ]
    }
   ],
   "source": [
    "import multiprocessing as mp   # 멀티 프로세싱으로 전처리 속도를 획기적으로 줄여봅시다\n",
    "from multiprocessing import Pool\n",
    "import numpy as np\n",
    "import time\n",
    "from functools import partial  # map을 할 때 함수에 여러 인자를 넣어줄 수 있도록 합니다\n",
    "\n",
    "start = time.time()\n",
    "\n",
    "# num_cores 만큼 쪼개진 데이터를 전처리하여 반환합니다\n",
    "def appendTexts(sentences, remove_stopwords):\n",
    "  texts = []\n",
    "  for s in sentences:\n",
    "    texts += preprocess_sentence(s, remove_stopwords),\n",
    "  return texts\n",
    "\n",
    "def preprocess_data(data, remove_stopwords=True):\n",
    "  start_time = time.time()\n",
    "  num_cores = mp.cpu_count()  # 컴퓨터의 코어 수를 구합니다\n",
    "\n",
    "  text_data_split = np.array_split(data, num_cores)  # 코어 수만큼 데이터를 배분하여 병렬적으로 처리할 수 있게 합니다\n",
    "  pool = Pool(num_cores)\n",
    "\n",
    "  processed_data = np.concatenate(pool.map(partial(appendTexts, remove_stopwords=remove_stopwords), text_data_split))  # 각자 작업한 데이터를 하나로 합쳐줍니다\n",
    "  pool.close()\n",
    "  pool.join()\n",
    "  print(time.time() - start_time, \" seconds\")\n",
    "  return processed_data\n",
    "\n",
    "clean_text = preprocess_data(data['text'])  # 클라우드 기준으로 3~4분 정도 소요 됩니다\n",
    "print(clean_text)\n",
    "\n",
    "clean_summary = preprocess_data(data['headlines'], remove_stopwords=False) # 클라우드 기준 1분정도 소요됩니다.\n",
    "print(clean_summary)"
   ]
  },
  {
   "cell_type": "code",
   "execution_count": 15,
   "id": "serious-snowboard",
   "metadata": {},
   "outputs": [
    {
     "name": "stdout",
     "output_type": "stream",
     "text": [
      "전체 샘플수 : 98360\n"
     ]
    }
   ],
   "source": [
    "data['text'] = clean_text\n",
    "data['headlines'] = clean_summary\n",
    "\n",
    "# 빈 값을 Null 값으로 변환\n",
    "data.replace('', np.nan, inplace=True)\n",
    "\n",
    "data.dropna(axis=0, inplace=True)\n",
    "print('전체 샘플수 :', (len(data)))"
   ]
  },
  {
   "cell_type": "code",
   "execution_count": 20,
   "id": "presidential-webmaster",
   "metadata": {},
   "outputs": [
    {
     "name": "stdout",
     "output_type": "stream",
     "text": [
      "텍스트의 최소 길이 : 1\n",
      "텍스트의 최대 길이 : 50\n",
      "텍스트의 평균 길이 : 35.10693739772973\n",
      "헤드라인의 최소 길이 : 1\n",
      "헤드라인의 최대 길이 : 12\n",
      "헤드라인의 평균 길이 : 9.252539390134714\n"
     ]
    }
   ],
   "source": [
    "import matplotlib.pyplot as plt\n",
    "\n",
    "text_len = [len(s.split()) for s in data['text']]\n",
    "summary_len = [len(s.split()) for s in data['headlines']]\n",
    "\n",
    "print('텍스트의 최소 길이 : {}'.format(np.min(text_len)))\n",
    "print('텍스트의 최대 길이 : {}'.format(np.max(text_len)))\n",
    "print('텍스트의 평균 길이 : {}'.format(np.mean(text_len)))\n",
    "print('헤드라인의 최소 길이 : {}'.format(np.min(summary_len)))\n",
    "print('헤드라인의 최대 길이 : {}'.format(np.max(summary_len)))\n",
    "print('헤드라인의 평균 길이 : {}'.format(np.mean(summary_len)))\n"
   ]
  },
  {
   "cell_type": "code",
   "execution_count": 19,
   "id": "swedish-dating",
   "metadata": {},
   "outputs": [
    {
     "name": "stdout",
     "output_type": "stream",
     "text": [
      "전체 샘플수 : 97169\n"
     ]
    }
   ],
   "source": [
    "text_max_len = 50\n",
    "headlines_max_len = 12\n",
    "\n",
    "data = data[data['text'].apply(lambda x: len(x.split()) <= text_max_len)]\n",
    "data = data[data['headlines'].apply(lambda x: len(x.split()) <= headlines_max_len)]\n",
    "print('전체 샘플수 :', (len(data)))"
   ]
  },
  {
   "cell_type": "code",
   "execution_count": 21,
   "id": "chicken-sperm",
   "metadata": {},
   "outputs": [
    {
     "data": {
      "text/html": [
       "<div>\n",
       "<style scoped>\n",
       "    .dataframe tbody tr th:only-of-type {\n",
       "        vertical-align: middle;\n",
       "    }\n",
       "\n",
       "    .dataframe tbody tr th {\n",
       "        vertical-align: top;\n",
       "    }\n",
       "\n",
       "    .dataframe thead th {\n",
       "        text-align: right;\n",
       "    }\n",
       "</style>\n",
       "<table border=\"1\" class=\"dataframe\">\n",
       "  <thead>\n",
       "    <tr style=\"text-align: right;\">\n",
       "      <th></th>\n",
       "      <th>headlines</th>\n",
       "      <th>text</th>\n",
       "      <th>decoder_input</th>\n",
       "      <th>decoder_target</th>\n",
       "    </tr>\n",
       "  </thead>\n",
       "  <tbody>\n",
       "    <tr>\n",
       "      <th>0</th>\n",
       "      <td>upgrad learner switches to career in ml al wit...</td>\n",
       "      <td>saurav kant alumnus upgrad iiit pg program mac...</td>\n",
       "      <td>sostoken upgrad learner switches to career in ...</td>\n",
       "      <td>upgrad learner switches to career in ml al wit...</td>\n",
       "    </tr>\n",
       "    <tr>\n",
       "      <th>1</th>\n",
       "      <td>delhi techie wins free food from swiggy for on...</td>\n",
       "      <td>kunal shah credit card bill payment platform c...</td>\n",
       "      <td>sostoken delhi techie wins free food from swig...</td>\n",
       "      <td>delhi techie wins free food from swiggy for on...</td>\n",
       "    </tr>\n",
       "    <tr>\n",
       "      <th>2</th>\n",
       "      <td>new zealand end rohit sharma led india match w...</td>\n",
       "      <td>new zealand defeated india wickets fourth odi ...</td>\n",
       "      <td>sostoken new zealand end rohit sharma led indi...</td>\n",
       "      <td>new zealand end rohit sharma led india match w...</td>\n",
       "    </tr>\n",
       "    <tr>\n",
       "      <th>3</th>\n",
       "      <td>aegon life iterm insurance plan helps customer...</td>\n",
       "      <td>aegon life iterm insurance plan customers enjo...</td>\n",
       "      <td>sostoken aegon life iterm insurance plan helps...</td>\n",
       "      <td>aegon life iterm insurance plan helps customer...</td>\n",
       "    </tr>\n",
       "    <tr>\n",
       "      <th>5</th>\n",
       "      <td>rahat fateh ali khan denies getting notice for...</td>\n",
       "      <td>pakistani singer rahat fateh ali khan denied r...</td>\n",
       "      <td>sostoken rahat fateh ali khan denies getting n...</td>\n",
       "      <td>rahat fateh ali khan denies getting notice for...</td>\n",
       "    </tr>\n",
       "  </tbody>\n",
       "</table>\n",
       "</div>"
      ],
      "text/plain": [
       "                                           headlines  \\\n",
       "0  upgrad learner switches to career in ml al wit...   \n",
       "1  delhi techie wins free food from swiggy for on...   \n",
       "2  new zealand end rohit sharma led india match w...   \n",
       "3  aegon life iterm insurance plan helps customer...   \n",
       "5  rahat fateh ali khan denies getting notice for...   \n",
       "\n",
       "                                                text  \\\n",
       "0  saurav kant alumnus upgrad iiit pg program mac...   \n",
       "1  kunal shah credit card bill payment platform c...   \n",
       "2  new zealand defeated india wickets fourth odi ...   \n",
       "3  aegon life iterm insurance plan customers enjo...   \n",
       "5  pakistani singer rahat fateh ali khan denied r...   \n",
       "\n",
       "                                       decoder_input  \\\n",
       "0  sostoken upgrad learner switches to career in ...   \n",
       "1  sostoken delhi techie wins free food from swig...   \n",
       "2  sostoken new zealand end rohit sharma led indi...   \n",
       "3  sostoken aegon life iterm insurance plan helps...   \n",
       "5  sostoken rahat fateh ali khan denies getting n...   \n",
       "\n",
       "                                      decoder_target  \n",
       "0  upgrad learner switches to career in ml al wit...  \n",
       "1  delhi techie wins free food from swiggy for on...  \n",
       "2  new zealand end rohit sharma led india match w...  \n",
       "3  aegon life iterm insurance plan helps customer...  \n",
       "5  rahat fateh ali khan denies getting notice for...  "
      ]
     },
     "execution_count": 21,
     "metadata": {},
     "output_type": "execute_result"
    }
   ],
   "source": [
    "data['decoder_input'] = data['headlines'].apply(lambda x : 'sostoken '+ x)\n",
    "data['decoder_target'] = data['headlines'].apply(lambda x : x + ' eostoken')\n",
    "data.head()"
   ]
  },
  {
   "cell_type": "code",
   "execution_count": 22,
   "id": "decent-madagascar",
   "metadata": {},
   "outputs": [],
   "source": [
    "encoder_input = np.array(data['text']) # 인코더의 입력\n",
    "decoder_input = np.array(data['decoder_input']) # 디코더의 입력\n",
    "decoder_target = np.array(data['decoder_target']) # 디코더의 레이블"
   ]
  },
  {
   "cell_type": "code",
   "execution_count": 23,
   "id": "understanding-german",
   "metadata": {},
   "outputs": [
    {
     "name": "stdout",
     "output_type": "stream",
     "text": [
      "[13242 82725  7623 ... 34941 52134 77021]\n",
      "테스트 데이터의 수 : 19433\n",
      "훈련 데이터의 개수 : 77736\n",
      "훈련 레이블의 개수 : 77736\n",
      "테스트 데이터의 개수 : 19433\n",
      "테스트 레이블의 개수 : 19433\n"
     ]
    }
   ],
   "source": [
    "indices = np.arange(encoder_input.shape[0])\n",
    "np.random.shuffle(indices)\n",
    "print(indices)\n",
    "\n",
    "encoder_input = encoder_input[indices]\n",
    "decoder_input = decoder_input[indices]\n",
    "decoder_target = decoder_target[indices]\n",
    "\n",
    "n_of_val = int(len(encoder_input)*0.2)\n",
    "print('테스트 데이터의 수 :', n_of_val)\n",
    "\n",
    "encoder_input_train = encoder_input[:-n_of_val]\n",
    "decoder_input_train = decoder_input[:-n_of_val]\n",
    "decoder_target_train = decoder_target[:-n_of_val]\n",
    "\n",
    "encoder_input_test = encoder_input[-n_of_val:]\n",
    "decoder_input_test = decoder_input[-n_of_val:]\n",
    "decoder_target_test = decoder_target[-n_of_val:]\n",
    "\n",
    "print('훈련 데이터의 개수 :', len(encoder_input_train))\n",
    "print('훈련 레이블의 개수 :', len(decoder_input_train))\n",
    "print('테스트 데이터의 개수 :', len(encoder_input_test))\n",
    "print('테스트 레이블의 개수 :', len(decoder_input_test))\n"
   ]
  },
  {
   "cell_type": "code",
   "execution_count": 24,
   "id": "after-milwaukee",
   "metadata": {},
   "outputs": [
    {
     "name": "stdout",
     "output_type": "stream",
     "text": [
      "단어 집합(vocabulary)의 크기 : 69260\n",
      "등장 빈도가 6번 이하인 희귀 단어의 수: 47244\n",
      "단어 집합에서 희귀 단어를 제외시킬 경우의 단어 집합의 크기 22016\n",
      "단어 집합에서 희귀 단어의 비율: 68.21253248628358\n",
      "전체 등장 빈도에서 희귀 단어 등장 빈도 비율: 3.521971967148051\n"
     ]
    }
   ],
   "source": [
    "src_tokenizer = Tokenizer() # 토크나이저 정의\n",
    "src_tokenizer.fit_on_texts(encoder_input_train) # 입력된 데이터로부터 단어 집합 생성\n",
    "\n",
    "threshold = 7\n",
    "total_cnt = len(src_tokenizer.word_index) # 단어의 수\n",
    "rare_cnt = 0 # 등장 빈도수가 threshold보다 작은 단어의 개수를 카운트\n",
    "total_freq = 0 # 훈련 데이터의 전체 단어 빈도수 총 합\n",
    "rare_freq = 0 # 등장 빈도수가 threshold보다 작은 단어의 등장 빈도수의 총 합\n",
    "\n",
    "# 단어와 빈도수의 쌍(pair)을 key와 value로 받는다.\n",
    "for key, value in src_tokenizer.word_counts.items():\n",
    "    total_freq = total_freq + value\n",
    "\n",
    "    # 단어의 등장 빈도수가 threshold보다 작으면\n",
    "    if(value < threshold):\n",
    "        rare_cnt = rare_cnt + 1\n",
    "        rare_freq = rare_freq + value\n",
    "\n",
    "print('단어 집합(vocabulary)의 크기 :', total_cnt)\n",
    "print('등장 빈도가 %s번 이하인 희귀 단어의 수: %s'%(threshold - 1, rare_cnt))\n",
    "print('단어 집합에서 희귀 단어를 제외시킬 경우의 단어 집합의 크기 %s'%(total_cnt - rare_cnt))\n",
    "print(\"단어 집합에서 희귀 단어의 비율:\", (rare_cnt / total_cnt)*100)\n",
    "print(\"전체 등장 빈도에서 희귀 단어 등장 빈도 비율:\", (rare_freq / total_freq)*100)"
   ]
  },
  {
   "cell_type": "code",
   "execution_count": 25,
   "id": "embedded-purpose",
   "metadata": {},
   "outputs": [],
   "source": [
    "src_vocab = 22000\n",
    "src_tokenizer = Tokenizer(num_words=src_vocab) # 단어 집합의 크기를 22000으로 제한\n",
    "src_tokenizer.fit_on_texts(encoder_input_train) # 단어 집합 재생성."
   ]
  },
  {
   "cell_type": "code",
   "execution_count": 26,
   "id": "alien-welding",
   "metadata": {},
   "outputs": [
    {
     "name": "stdout",
     "output_type": "stream",
     "text": [
      "[[888, 1015, 341, 497, 3028, 292, 1139, 4016, 2421, 5045, 1611, 3105, 6843, 4438, 10218, 1976, 18285, 5624, 565, 4821, 5936, 638, 939, 5937, 6359, 22, 585, 25, 1448, 25, 1448, 1372, 3480, 183, 801], [4215, 331, 1094, 9239, 8084, 111, 364, 15281, 1787, 1894, 57, 4127, 52, 9789, 744, 1894, 217, 2236, 4349, 4439, 883, 2525, 109, 1894, 658, 2393, 6, 1, 52, 9789, 744, 1894, 936, 655, 34, 7388, 253, 7300, 1126, 1404, 7389], [26, 40, 2, 100, 951, 508, 1333, 9790, 188, 3553, 259, 39, 112, 638, 984, 1845, 508, 6073, 4074, 508, 9790, 234, 2955, 11189, 883, 1660, 1661, 12896, 4075, 566, 3340, 196, 72, 559, 508, 557, 984, 634]]\n"
     ]
    }
   ],
   "source": [
    "# 텍스트 시퀀스를 정수 시퀀스로 변환\n",
    "encoder_input_train = src_tokenizer.texts_to_sequences(encoder_input_train) \n",
    "encoder_input_test = src_tokenizer.texts_to_sequences(encoder_input_test)\n",
    "\n",
    "# 잘 진행되었는지 샘플 출력\n",
    "print(encoder_input_train[:3])"
   ]
  },
  {
   "cell_type": "code",
   "execution_count": 27,
   "id": "civilian-jungle",
   "metadata": {},
   "outputs": [
    {
     "name": "stdout",
     "output_type": "stream",
     "text": [
      "단어 집합(vocabulary)의 크기 : 29936\n",
      "등장 빈도가 5번 이하인 희귀 단어의 수: 19550\n",
      "단어 집합에서 희귀 단어를 제외시킬 경우의 단어 집합의 크기 10386\n",
      "단어 집합에서 희귀 단어의 비율: 65.30598610368786\n",
      "전체 등장 빈도에서 희귀 단어 등장 빈도 비율: 4.688417544581688\n"
     ]
    }
   ],
   "source": [
    "tar_tokenizer = Tokenizer()\n",
    "tar_tokenizer.fit_on_texts(decoder_input_train)\n",
    "\n",
    "threshold = 6\n",
    "total_cnt = len(tar_tokenizer.word_index) # 단어의 수\n",
    "rare_cnt = 0 # 등장 빈도수가 threshold보다 작은 단어의 개수를 카운트\n",
    "total_freq = 0 # 훈련 데이터의 전체 단어 빈도수 총 합\n",
    "rare_freq = 0 # 등장 빈도수가 threshold보다 작은 단어의 등장 빈도수의 총 합\n",
    "\n",
    "# 단어와 빈도수의 쌍(pair)을 key와 value로 받는다.\n",
    "for key, value in tar_tokenizer.word_counts.items():\n",
    "    total_freq = total_freq + value\n",
    "\n",
    "    # 단어의 등장 빈도수가 threshold보다 작으면\n",
    "    if(value < threshold):\n",
    "        rare_cnt = rare_cnt + 1\n",
    "        rare_freq = rare_freq + value\n",
    "\n",
    "print('단어 집합(vocabulary)의 크기 :', total_cnt)\n",
    "print('등장 빈도가 %s번 이하인 희귀 단어의 수: %s'%(threshold - 1, rare_cnt))\n",
    "print('단어 집합에서 희귀 단어를 제외시킬 경우의 단어 집합의 크기 %s'%(total_cnt - rare_cnt))\n",
    "print(\"단어 집합에서 희귀 단어의 비율:\", (rare_cnt / total_cnt)*100)\n",
    "print(\"전체 등장 빈도에서 희귀 단어 등장 빈도 비율:\", (rare_freq / total_freq)*100)"
   ]
  },
  {
   "cell_type": "code",
   "execution_count": 28,
   "id": "boxed-possible",
   "metadata": {},
   "outputs": [
    {
     "name": "stdout",
     "output_type": "stream",
     "text": [
      "input\n",
      "input  [[1, 1881, 3, 969, 2210, 468, 7, 2286, 1882, 3890, 1543, 6, 130], [1, 5609, 3215, 148, 5, 1328, 1692], [1, 1108, 220, 4234, 1717, 12, 1456, 1297, 2936, 4, 4634], [1, 163, 190, 344, 898, 606, 4, 13], [1, 227, 169, 143, 228, 722, 2151, 5, 65, 1826, 3, 26, 23]]\n",
      "target\n",
      "decoder  [[1881, 3, 969, 2210, 468, 7, 2286, 1882, 3890, 1543, 6, 130, 2], [5609, 3215, 148, 5, 1328, 1692, 2], [1108, 220, 4234, 1717, 12, 1456, 1297, 2936, 4, 4634, 2], [163, 190, 344, 898, 606, 4, 13, 2], [227, 169, 143, 228, 722, 2151, 5, 65, 1826, 3, 26, 23, 2]]\n"
     ]
    }
   ],
   "source": [
    "tar_vocab = 10000\n",
    "tar_tokenizer = Tokenizer(num_words=tar_vocab) \n",
    "tar_tokenizer.fit_on_texts(decoder_input_train)\n",
    "tar_tokenizer.fit_on_texts(decoder_target_train)\n",
    "\n",
    "# 텍스트 시퀀스를 정수 시퀀스로 변환\n",
    "decoder_input_train = tar_tokenizer.texts_to_sequences(decoder_input_train) \n",
    "decoder_target_train = tar_tokenizer.texts_to_sequences(decoder_target_train)\n",
    "decoder_input_test = tar_tokenizer.texts_to_sequences(decoder_input_test)\n",
    "decoder_target_test = tar_tokenizer.texts_to_sequences(decoder_target_test)\n",
    "\n",
    "# 잘 변환되었는지 확인\n",
    "print('input')\n",
    "print('input ',decoder_input_train[:5])\n",
    "print('target')\n",
    "print('decoder ',decoder_target_train[:5])"
   ]
  },
  {
   "cell_type": "code",
   "execution_count": 29,
   "id": "surprising-psychiatry",
   "metadata": {},
   "outputs": [
    {
     "name": "stdout",
     "output_type": "stream",
     "text": [
      "삭제할 훈련 데이터의 개수 : 1\n",
      "삭제할 테스트 데이터의 개수 : 0\n"
     ]
    },
    {
     "name": "stderr",
     "output_type": "stream",
     "text": [
      "/opt/conda/lib/python3.7/site-packages/numpy/core/_asarray.py:83: VisibleDeprecationWarning: Creating an ndarray from ragged nested sequences (which is a list-or-tuple of lists-or-tuples-or ndarrays with different lengths or shapes) is deprecated. If you meant to do this, you must specify 'dtype=object' when creating the ndarray\n",
      "  return array(a, dtype, copy=False, order=order)\n"
     ]
    },
    {
     "name": "stdout",
     "output_type": "stream",
     "text": [
      "훈련 데이터의 개수 : 77735\n",
      "훈련 레이블의 개수 : 77735\n",
      "테스트 데이터의 개수 : 19433\n",
      "테스트 레이블의 개수 : 19433\n"
     ]
    }
   ],
   "source": [
    "drop_train = [index for index, sentence in enumerate(decoder_input_train) if len(sentence) == 1]\n",
    "drop_test = [index for index, sentence in enumerate(decoder_input_test) if len(sentence) == 1]\n",
    "\n",
    "print('삭제할 훈련 데이터의 개수 :', len(drop_train))\n",
    "print('삭제할 테스트 데이터의 개수 :', len(drop_test))\n",
    "\n",
    "encoder_input_train = np.delete(encoder_input_train, drop_train, axis=0)\n",
    "decoder_input_train = np.delete(decoder_input_train, drop_train, axis=0)\n",
    "decoder_target_train = np.delete(decoder_target_train, drop_train, axis=0)\n",
    "\n",
    "encoder_input_test = np.delete(encoder_input_test, drop_test, axis=0)\n",
    "decoder_input_test = np.delete(decoder_input_test, drop_test, axis=0)\n",
    "decoder_target_test = np.delete(decoder_target_test, drop_test, axis=0)\n",
    "\n",
    "print('훈련 데이터의 개수 :', len(encoder_input_train))\n",
    "print('훈련 레이블의 개수 :', len(decoder_input_train))\n",
    "print('테스트 데이터의 개수 :', len(encoder_input_test))\n",
    "print('테스트 레이블의 개수 :', len(decoder_input_test))"
   ]
  },
  {
   "cell_type": "code",
   "execution_count": 31,
   "id": "southwest-society",
   "metadata": {},
   "outputs": [],
   "source": [
    "encoder_input_train = pad_sequences(encoder_input_train, maxlen=text_max_len, padding='post')\n",
    "encoder_input_test = pad_sequences(encoder_input_test, maxlen=text_max_len, padding='post')\n",
    "decoder_input_train = pad_sequences(decoder_input_train, maxlen=headlines_max_len, padding='post')\n",
    "decoder_target_train = pad_sequences(decoder_target_train, maxlen=headlines_max_len, padding='post')\n",
    "decoder_input_test = pad_sequences(decoder_input_test, maxlen=headlines_max_len, padding='post')\n",
    "decoder_target_test = pad_sequences(decoder_target_test, maxlen=headlines_max_len, padding='post')"
   ]
  },
  {
   "cell_type": "markdown",
   "id": "moral-cooperative",
   "metadata": {},
   "source": [
    "## (2) 모델설계, 훈련하기"
   ]
  },
  {
   "cell_type": "code",
   "execution_count": 32,
   "id": "suffering-trigger",
   "metadata": {},
   "outputs": [
    {
     "name": "stdout",
     "output_type": "stream",
     "text": [
      "WARNING:tensorflow:Layer lstm will not use cuDNN kernel since it doesn't meet the cuDNN kernel criteria. It will use generic GPU kernel as fallback when running on GPU\n",
      "WARNING:tensorflow:Layer lstm_1 will not use cuDNN kernel since it doesn't meet the cuDNN kernel criteria. It will use generic GPU kernel as fallback when running on GPU\n",
      "WARNING:tensorflow:Layer lstm_2 will not use cuDNN kernel since it doesn't meet the cuDNN kernel criteria. It will use generic GPU kernel as fallback when running on GPU\n"
     ]
    }
   ],
   "source": [
    "from tensorflow.keras.layers import Input, LSTM, Embedding, Dense, Concatenate\n",
    "from tensorflow.keras.models import Model\n",
    "from tensorflow.keras.callbacks import EarlyStopping, ModelCheckpoint\n",
    "\n",
    "\n",
    "# 인코더 설계 시작\n",
    "embedding_dim = 128\n",
    "hidden_size = 256\n",
    "\n",
    "# 인코더\n",
    "encoder_inputs = Input(shape=(text_max_len,))\n",
    "\n",
    "# 인코더의 임베딩 층\n",
    "enc_emb = Embedding(src_vocab, embedding_dim)(encoder_inputs)\n",
    "\n",
    "# 인코더의 LSTM 1\n",
    "encoder_lstm1 = LSTM(hidden_size, return_sequences=True, return_state=True ,dropout = 0.4, recurrent_dropout = 0.4)\n",
    "encoder_output1, state_h1, state_c1 = encoder_lstm1(enc_emb)\n",
    "\n",
    "# 인코더의 LSTM 2\n",
    "encoder_lstm2 = LSTM(hidden_size, return_sequences=True, return_state=True, dropout=0.4, recurrent_dropout=0.4)\n",
    "encoder_output2, state_h2, state_c2 = encoder_lstm2(encoder_output1)\n",
    "\n",
    "# 인코더의 LSTM 3\n",
    "encoder_lstm3 = LSTM(hidden_size, return_state=True, return_sequences=True, dropout=0.4, recurrent_dropout=0.4)\n",
    "encoder_outputs, state_h, state_c= encoder_lstm3(encoder_output2)"
   ]
  },
  {
   "cell_type": "code",
   "execution_count": 33,
   "id": "dental-poetry",
   "metadata": {},
   "outputs": [
    {
     "name": "stdout",
     "output_type": "stream",
     "text": [
      "WARNING:tensorflow:Layer lstm_3 will not use cuDNN kernel since it doesn't meet the cuDNN kernel criteria. It will use generic GPU kernel as fallback when running on GPU\n"
     ]
    }
   ],
   "source": [
    "# 디코더 설계\n",
    "decoder_inputs = Input(shape=(None,))\n",
    "\n",
    "# 디코더의 임베딩 층\n",
    "dec_emb_layer = Embedding(tar_vocab, embedding_dim)\n",
    "dec_emb = dec_emb_layer(decoder_inputs)\n",
    "\n",
    "# 디코더의 LSTM\n",
    "decoder_lstm = LSTM(hidden_size, return_sequences=True, return_state=True, dropout=0.4, recurrent_dropout=0.2)\n",
    "decoder_outputs, _, _ = decoder_lstm(dec_emb, initial_state=[state_h, state_c])"
   ]
  },
  {
   "cell_type": "code",
   "execution_count": 34,
   "id": "continent-adolescent",
   "metadata": {},
   "outputs": [
    {
     "name": "stdout",
     "output_type": "stream",
     "text": [
      "Model: \"model\"\n",
      "__________________________________________________________________________________________________\n",
      "Layer (type)                    Output Shape         Param #     Connected to                     \n",
      "==================================================================================================\n",
      "input_1 (InputLayer)            [(None, 50)]         0                                            \n",
      "__________________________________________________________________________________________________\n",
      "embedding (Embedding)           (None, 50, 128)      2816000     input_1[0][0]                    \n",
      "__________________________________________________________________________________________________\n",
      "lstm (LSTM)                     [(None, 50, 256), (N 394240      embedding[0][0]                  \n",
      "__________________________________________________________________________________________________\n",
      "input_2 (InputLayer)            [(None, None)]       0                                            \n",
      "__________________________________________________________________________________________________\n",
      "lstm_1 (LSTM)                   [(None, 50, 256), (N 525312      lstm[0][0]                       \n",
      "__________________________________________________________________________________________________\n",
      "embedding_1 (Embedding)         (None, None, 128)    1280000     input_2[0][0]                    \n",
      "__________________________________________________________________________________________________\n",
      "lstm_2 (LSTM)                   [(None, 50, 256), (N 525312      lstm_1[0][0]                     \n",
      "__________________________________________________________________________________________________\n",
      "lstm_3 (LSTM)                   [(None, None, 256),  394240      embedding_1[0][0]                \n",
      "                                                                 lstm_2[0][1]                     \n",
      "                                                                 lstm_2[0][2]                     \n",
      "__________________________________________________________________________________________________\n",
      "dense (Dense)                   (None, None, 10000)  2570000     lstm_3[0][0]                     \n",
      "==================================================================================================\n",
      "Total params: 8,505,104\n",
      "Trainable params: 8,505,104\n",
      "Non-trainable params: 0\n",
      "__________________________________________________________________________________________________\n"
     ]
    }
   ],
   "source": [
    "# 디코더의 출력층\n",
    "decoder_softmax_layer = Dense(tar_vocab, activation='softmax')\n",
    "decoder_softmax_outputs = decoder_softmax_layer(decoder_outputs) \n",
    "\n",
    "# 모델 정의\n",
    "model = Model([encoder_inputs, decoder_inputs], decoder_softmax_outputs)\n",
    "model.summary()"
   ]
  },
  {
   "cell_type": "code",
   "execution_count": 35,
   "id": "eastern-death",
   "metadata": {},
   "outputs": [],
   "source": [
    "urllib.request.urlretrieve(\"https://raw.githubusercontent.com/thushv89/attention_keras/master/src/layers/attention.py\", filename=\"attention.py\")\n",
    "from attention import AttentionLayer"
   ]
  },
  {
   "cell_type": "code",
   "execution_count": 36,
   "id": "opposite-bryan",
   "metadata": {},
   "outputs": [
    {
     "name": "stdout",
     "output_type": "stream",
     "text": [
      "Model: \"model_1\"\n",
      "__________________________________________________________________________________________________\n",
      "Layer (type)                    Output Shape         Param #     Connected to                     \n",
      "==================================================================================================\n",
      "input_1 (InputLayer)            [(None, 50)]         0                                            \n",
      "__________________________________________________________________________________________________\n",
      "embedding (Embedding)           (None, 50, 128)      2816000     input_1[0][0]                    \n",
      "__________________________________________________________________________________________________\n",
      "lstm (LSTM)                     [(None, 50, 256), (N 394240      embedding[0][0]                  \n",
      "__________________________________________________________________________________________________\n",
      "input_2 (InputLayer)            [(None, None)]       0                                            \n",
      "__________________________________________________________________________________________________\n",
      "lstm_1 (LSTM)                   [(None, 50, 256), (N 525312      lstm[0][0]                       \n",
      "__________________________________________________________________________________________________\n",
      "embedding_1 (Embedding)         (None, None, 128)    1280000     input_2[0][0]                    \n",
      "__________________________________________________________________________________________________\n",
      "lstm_2 (LSTM)                   [(None, 50, 256), (N 525312      lstm_1[0][0]                     \n",
      "__________________________________________________________________________________________________\n",
      "lstm_3 (LSTM)                   [(None, None, 256),  394240      embedding_1[0][0]                \n",
      "                                                                 lstm_2[0][1]                     \n",
      "                                                                 lstm_2[0][2]                     \n",
      "__________________________________________________________________________________________________\n",
      "attention_layer (AttentionLayer ((None, None, 256),  131328      lstm_2[0][0]                     \n",
      "                                                                 lstm_3[0][0]                     \n",
      "__________________________________________________________________________________________________\n",
      "concat_layer (Concatenate)      (None, None, 512)    0           lstm_3[0][0]                     \n",
      "                                                                 attention_layer[0][0]            \n",
      "__________________________________________________________________________________________________\n",
      "dense_1 (Dense)                 (None, None, 10000)  5130000     concat_layer[0][0]               \n",
      "==================================================================================================\n",
      "Total params: 11,196,432\n",
      "Trainable params: 11,196,432\n",
      "Non-trainable params: 0\n",
      "__________________________________________________________________________________________________\n"
     ]
    }
   ],
   "source": [
    "# 어텐션 층(어텐션 함수)\n",
    "attn_layer = AttentionLayer(name='attention_layer')\n",
    "# 인코더와 디코더의 모든 time step의 hidden state를 어텐션 층에 전달하고 결과를 리턴\n",
    "attn_out, attn_states = attn_layer([encoder_outputs, decoder_outputs])\n",
    "\n",
    "# 어텐션의 결과와 디코더의 hidden state들을 연결\n",
    "decoder_concat_input = Concatenate(axis=-1, name='concat_layer')([decoder_outputs, attn_out])\n",
    "\n",
    "# 디코더의 출력층\n",
    "decoder_softmax_layer = Dense(tar_vocab, activation='softmax')\n",
    "decoder_softmax_outputs = decoder_softmax_layer(decoder_concat_input)\n",
    "\n",
    "# 모델 정의\n",
    "model = Model([encoder_inputs, decoder_inputs], decoder_softmax_outputs)\n",
    "model.summary()"
   ]
  },
  {
   "cell_type": "code",
   "execution_count": 37,
   "id": "maritime-clearing",
   "metadata": {},
   "outputs": [
    {
     "name": "stdout",
     "output_type": "stream",
     "text": [
      "Epoch 1/10\n",
      "304/304 [==============================] - 256s 799ms/step - loss: 6.0081 - val_loss: 5.1750\n",
      "Epoch 2/10\n",
      "304/304 [==============================] - 243s 799ms/step - loss: 5.1124 - val_loss: 4.7905\n",
      "Epoch 3/10\n",
      "304/304 [==============================] - 241s 792ms/step - loss: 4.7379 - val_loss: 4.5206\n",
      "Epoch 4/10\n",
      "304/304 [==============================] - 238s 784ms/step - loss: 4.4440 - val_loss: 4.3386\n",
      "Epoch 5/10\n",
      "304/304 [==============================] - 235s 774ms/step - loss: 4.2287 - val_loss: 4.1979\n",
      "Epoch 6/10\n",
      "304/304 [==============================] - 233s 768ms/step - loss: 4.0489 - val_loss: 4.0802\n",
      "Epoch 7/10\n",
      "304/304 [==============================] - 233s 766ms/step - loss: 3.8962 - val_loss: 3.9872\n",
      "Epoch 8/10\n",
      "304/304 [==============================] - 234s 771ms/step - loss: 3.7593 - val_loss: 3.9010\n",
      "Epoch 9/10\n",
      "304/304 [==============================] - 233s 766ms/step - loss: 3.6377 - val_loss: 3.8440\n",
      "Epoch 10/10\n",
      "304/304 [==============================] - 234s 769ms/step - loss: 3.5354 - val_loss: 3.7904\n"
     ]
    }
   ],
   "source": [
    "model.compile(optimizer='rmsprop', loss='sparse_categorical_crossentropy')\n",
    "es = EarlyStopping(monitor='val_loss', patience=2, verbose=1)\n",
    "history = model.fit(x=[encoder_input_train, decoder_input_train], y=decoder_target_train, \\\n",
    "          validation_data=([encoder_input_test, decoder_input_test], decoder_target_test), \\\n",
    "          batch_size=256, callbacks=[es], epochs=10)"
   ]
  },
  {
   "cell_type": "code",
   "execution_count": 38,
   "id": "inner-intro",
   "metadata": {},
   "outputs": [
    {
     "data": {
      "image/png": "[encoded data removed]",
      "text/plain": [
       "<Figure size 432x288 with 1 Axes>"
      ]
     },
     "metadata": {
      "needs_background": "light"
     },
     "output_type": "display_data"
    }
   ],
   "source": [
    "plt.plot(history.history['loss'], label='train')\n",
    "plt.plot(history.history['val_loss'], label='test')\n",
    "plt.legend()\n",
    "plt.show()"
   ]
  },
  {
   "cell_type": "code",
   "execution_count": 39,
   "id": "nasty-settle",
   "metadata": {},
   "outputs": [],
   "source": [
    "src_index_to_word = src_tokenizer.index_word # 원문 단어 집합에서 정수 -> 단어를 얻음\n",
    "tar_word_to_index = tar_tokenizer.word_index # 요약 단어 집합에서 단어 -> 정수를 얻음\n",
    "tar_index_to_word = tar_tokenizer.index_word # 요약 단어 집합에서 정수 -> 단어를 얻음"
   ]
  },
  {
   "cell_type": "code",
   "execution_count": 40,
   "id": "signal-referral",
   "metadata": {},
   "outputs": [],
   "source": [
    "# 인코더 설계\n",
    "encoder_model = Model(inputs=encoder_inputs, outputs=[encoder_outputs, state_h, state_c])\n",
    "\n",
    "# 이전 시점의 상태들을 저장하는 텐서\n",
    "decoder_state_input_h = Input(shape=(hidden_size,))\n",
    "decoder_state_input_c = Input(shape=(hidden_size,))\n",
    "\n",
    "dec_emb2 = dec_emb_layer(decoder_inputs)\n",
    "\n",
    "# 문장의 다음 단어를 예측하기 위해서 초기 상태(initial_state)를 이전 시점의 상태로 사용. 이는 뒤의 함수 decode_sequence()에 구현\n",
    "# 훈련 과정에서와 달리 LSTM의 리턴하는 은닉 상태와 셀 상태인 state_h와 state_c를 버리지 않음.\n",
    "decoder_outputs2, state_h2, state_c2 = decoder_lstm(dec_emb2, initial_state=[decoder_state_input_h, decoder_state_input_c])\n",
    "\n",
    "decoder_hidden_state_input = Input(shape=(text_max_len, hidden_size))\n",
    "attn_out_inf, attn_states_inf = attn_layer([decoder_hidden_state_input, decoder_outputs2])\n",
    "decoder_inf_concat = Concatenate(axis=-1, name='concat')([decoder_outputs2, attn_out_inf])\n",
    "\n",
    "# 디코더의 출력층\n",
    "decoder_outputs2 = decoder_softmax_layer(decoder_inf_concat) \n",
    "\n",
    "# 최종 디코더 모델\n",
    "decoder_model = Model(\n",
    "    [decoder_inputs] + [decoder_hidden_state_input,decoder_state_input_h, decoder_state_input_c],\n",
    "    [decoder_outputs2] + [state_h2, state_c2])"
   ]
  },
  {
   "cell_type": "code",
   "execution_count": 41,
   "id": "russian-fraction",
   "metadata": {},
   "outputs": [],
   "source": [
    "def decode_sequence(input_seq):\n",
    "    # 입력으로부터 인코더의 상태를 얻음\n",
    "    e_out, e_h, e_c = encoder_model.predict(input_seq)\n",
    "\n",
    "     # <SOS>에 해당하는 토큰 생성\n",
    "    target_seq = np.zeros((1,1))\n",
    "    target_seq[0, 0] = tar_word_to_index['sostoken']\n",
    "\n",
    "    stop_condition = False\n",
    "    decoded_sentence = ''\n",
    "    while not stop_condition: # stop_condition이 True가 될 때까지 루프 반복\n",
    "\n",
    "        output_tokens, h, c = decoder_model.predict([target_seq] + [e_out, e_h, e_c])\n",
    "        sampled_token_index = np.argmax(output_tokens[0, -1, :])\n",
    "        sampled_token = tar_index_to_word[sampled_token_index]\n",
    "\n",
    "        if (sampled_token!='eostoken'):\n",
    "            decoded_sentence += ' '+sampled_token\n",
    "\n",
    "        #  <eos>에 도달하거나 최대 길이를 넘으면 중단.\n",
    "        if (sampled_token == 'eostoken'  or len(decoded_sentence.split()) >= (headlines_max_len-1)):\n",
    "            stop_condition = True\n",
    "\n",
    "        # 길이가 1인 타겟 시퀀스를 업데이트\n",
    "        target_seq = np.zeros((1,1))\n",
    "        target_seq[0, 0] = sampled_token_index\n",
    "\n",
    "        # 상태를 업데이트 합니다.\n",
    "        e_h, e_c = h, c\n",
    "\n",
    "    return decoded_sentence"
   ]
  },
  {
   "cell_type": "markdown",
   "id": "interim-brunei",
   "metadata": {},
   "source": [
    "## (3) 실제 요약문과 비교해보기"
   ]
  },
  {
   "cell_type": "code",
   "execution_count": 42,
   "id": "spectacular-people",
   "metadata": {},
   "outputs": [],
   "source": [
    "# 원문의 정수 시퀀스를 텍스트 시퀀스로 변환\n",
    "def seq2text(input_seq):\n",
    "    temp=''\n",
    "    for i in input_seq:\n",
    "        if (i!=0):\n",
    "            temp = temp + src_index_to_word[i]+' '\n",
    "    return temp\n",
    "\n",
    "# 헤드라인의 정수 시퀀스를 텍스트 시퀀스로 변환\n",
    "def seq2headlines(input_seq):\n",
    "    temp=''\n",
    "    for i in input_seq:\n",
    "        if ((i!=0 and i!=tar_word_to_index['sostoken']) and i!=tar_word_to_index['eostoken']):\n",
    "            temp = temp + tar_index_to_word[i] + ' '\n",
    "    return temp"
   ]
  },
  {
   "cell_type": "code",
   "execution_count": 43,
   "id": "stylish-spain",
   "metadata": {},
   "outputs": [
    {
     "name": "stdout",
     "output_type": "stream",
     "text": [
      "원문 : study internet freedom countries found governments nations deploying form manipulation distort information suppress dissent online human rights group freedom house said use paid commentators political bots spread government propaganda china russia gone global group added \n",
      "실제 헤드라인 : govts of out of nations social media study \n",
      "예측 헤드라인 :  us court to ban on sale of human rights\n",
      "\n",
      "\n",
      "원문 : captain virat kohli rested six team asia cup scheduled take place september kohli absence rohit sharma lead member squad also features kedar jadhav returns side recovering injury rajasthan sunrisers hyderabad year old pacer khaleel ahmed given maiden call \n",
      "실제 헤드라인 : virat kohli rested rohit sharma to lead india at asia cup \n",
      "예측 헤드라인 :  kohli to play in india squad for st time in india\n",
      "\n",
      "\n",
      "원문 : us judge approved million deal offering million california drivers average settle lawsuit uber according us law state keeps penalties given workers lawsuit alleging labour code violations one many lawsuits challenging uber contractor based business model \n",
      "실제 헤드라인 : judge settles case against uber offers drivers each \n",
      "예측 헤드라인 :  us firm to pay mn to pay mn over mn lawsuit\n",
      "\n",
      "\n",
      "원문 : us bank wells fargo agreed pay billion federal regulators settle charges tied misconduct mortgage auto lending business largest ever penalty us bank administration president donald trump bank admitted several abusive practices duped consumers millions dollars \n",
      "실제 헤드라인 : wells fargo to pay fine of billion for duping consumers \n",
      "예측 헤드라인 :  us bank firms to pay mn to settle tax deal\n",
      "\n",
      "\n",
      "원문 : rising pune supergiant former captain ms dhoni produced reflex stumping imran tahir bowling dismiss royal challengers bangalore ab de villiers ipl match sunday de villiers tried reaching tahir leg break got balance getting beaten de villiers walked towards rcb dug much third umpire dismissal confirmation \n",
      "실제 헤드라인 : video dhoni reaction stumping dismisses de villiers \n",
      "예측 헤드라인 :  dhoni dhoni takes wicket ton on his th day\n",
      "\n",
      "\n",
      "원문 : cbi deputy superintendent police devender kumar arrested connection bribery allegations monday moved bail plea delhi court saying cbi seized son laptop illegally plea claimed cbi valid search warrants raided kumar office plea also sought direction agency release seized articles \n",
      "실제 헤드라인 : my son laptop seized in illegal raid cbi dsp in bail plea \n",
      "예측 헤드라인 :  cbi arrests cbi for bail in case against cbi\n",
      "\n",
      "\n",
      "원문 : sara ali khan asked send message instagram kartik aaryan confessed crush jokingly said mom said must wait waiting desperate added sara appearance koffee karan said wants date kartik \n",
      "실제 헤드라인 : my mom said must wait sara on having crush on kartik aaryan \n",
      "예측 헤드라인 :  am not want to do not want to do my life\n",
      "\n",
      "\n",
      "원문 : year old woman daughter forced eat faeces villagers jharkhand accused practising witchcraft local blamed victims illness three villagers mob dragged house tonsured heads police arrested people case \n",
      "실제 헤드라인 : khand women made to eat for practising witchcraft \n",
      "예측 헤드라인 :  woman delivers baby to death after being denied\n",
      "\n",
      "\n",
      "원문 : calling finance secretary hasmukh adhia highly competent disciplined nonsense civil servant finance minister arun jaitley announced adhia retire november jaitley said adhia informed earlier year would work single day november added government wanted use adhia capability experience alternate capacity \n",
      "실제 헤드라인 : told me he would not work for day after nov jaitley \n",
      "예측 헤드라인 :  govt to launch jaitley for arun jaitley\n",
      "\n",
      "\n",
      "원문 : supreme court thursday rejected petition reliance communications seeking extend december deadline repay crore dues ericsson company argued received objection certificate telecom department proceed spectrum sale reliance jio rcom earlier said proceeds spectrum deal used clear ericsson dues \n",
      "실제 헤드라인 : sc rejects rcom plea seeking more time to pay ericsson \n",
      "예측 헤드라인 :  sc directs jaypee to jaypee crore tax on jaypee\n",
      "\n",
      "\n",
      "원문 : day confirming people charred death bus accident bihar disaster management minister dinesh yadav said casualties incident yes said people died based information local sources also said final report considered yadav asserted \n",
      "실제 헤드라인 : minister confirms no deaths after saying died in accident \n",
      "예측 헤드라인 :  death toll in accident accident in up\n",
      "\n",
      "\n",
      "원문 : chinese pork producer group said agreed receive interest payments ham pork rather cash announcement came recently defaulted million yuan bond amid cash crunch blamed default falling demand pork caused outbreak african swine fever \n",
      "실제 헤드라인 : chinese firm pays bond interest in and instead of cash \n",
      "예측 헤드라인 :  china to buy cr for crore\n",
      "\n",
      "\n",
      "원문 : combined fortune world wealthiest people plunged billion last one week facebook ceo mark zuckerberg lead decline fortune fell billion dropped three places rank world seventh richest person oracle founder larry ellison fortune plunged billion world third richest person warren lost billion \n",
      "실제 헤드라인 : world richest people lose billion in last one week \n",
      "예측 헤드라인 :  world richest billionaire loses billion in market\n",
      "\n",
      "\n",
      "원문 : cricketer gautam gambhir wore dupatta event held support transgenders delhi tuesday pictures event showed member community making gambhir wear dupatta accepted earlier cricketer posted pictures twitter showing getting rakhi tied transgenders rakshabandhan \n",
      "실제 헤드라인 : gautam gambhir wears to support transgenders \n",
      "예측 헤드라인 :  gambhir to play on national anthem in delhi\n",
      "\n",
      "\n",
      "원문 : sketch new york city drawn us president donald trump auction nearly lakh according reports sketch listed auction house rare original artwork president originally created trump auction benefitting global literacy initiative \n",
      "실제 헤드라인 : trump drawn sketch up for auction for lakh \n",
      "예측 헤드라인 :  us president trump launches new york\n",
      "\n",
      "\n",
      "원문 : ex england football team captain david beckham took social media share video breaking son brooklyn surprised birthday london restaurant wednesday best birthday surprise big boy coming home beckham captioned video beckham heard repeatedly asking brooklyn \n",
      "실제 헤드라인 : beckham breaks down as son surprises him on day in london \n",
      "예측 헤드라인 :  ex england captain trolls pic with baby on his birthday\n",
      "\n",
      "\n",
      "원문 : pakistan defeated hosts england wickets wednesday reach final champions trophy tournament first time batting first england hit boundaries least completed innings since world cup pakistan last played final icc odi tournament years ago world cup \n",
      "실제 헤드라인 : pakistan reach champions trophy final for the first time \n",
      "예측 헤드라인 :  pak beat pakistan to win their th straight win\n",
      "\n",
      "\n",
      "원문 : hurricane irma become world longest storm sustain winds mph since bearing winds speed hours irma due hit us state florida sunday caused one largest evacuations country history also one strongest atlantic hurricanes \n",
      "실제 헤드라인 : irma world longest storm to bear winds in yrs \n",
      "예측 헤드라인 :  world longest ship was built in the world\n",
      "\n",
      "\n",
      "원문 : anonymous buyer purchased million worth toys outlet us toy store chain shutdown employees store said toys reportedly donated children stores closed friday retailer filed bankruptcy last year debt increased nearly billion \n",
      "실제 헤드라인 : mystery makes million purchase as closes \n",
      "예측 헤드라인 :  crore worth crore in us\n",
      "\n",
      "\n",
      "원문 : former goa tourism minister francisco alias allegedly drove suv beach assaulted man man uploaded video facebook shows confronting friends driving parachute tearing friends seen abusing hitting man video \n",
      "실제 헤드라인 : ex goa tourism minister drives suv on beach assaults man \n",
      "예측 헤드라인 :  goa minister slams video of man who was attacked by car\n",
      "\n",
      "\n",
      "원문 : bidding former vice president hamid ansari farewell rajya sabha prime minister narendra modi said ansari scope remained limited added even retiring serving indian foreign services officer muslim dominated west asia work remained similar whether minorities commission aligarh muslim university \n",
      "실제 헤드라인 : your limited pm in ansari farewell speech \n",
      "예측 헤드라인 :  pm modi is not in india ex pm modi\n",
      "\n",
      "\n",
      "원문 : two mumbai rescued five hour long operation hill raigad district sunday survived foot fall girl boy suffered serious injuries rolling become rains around people including locals police rescue team members carried rescue operation \n",
      "실제 헤드라인 : mumbai trekkers rescued after surviving foot fall \n",
      "예측 헤드라인 :  mumbai civic body dies after falling on th floor\n",
      "\n",
      "\n",
      "원문 : owned vietnam last emperor became brand expensive wristwatch ever sold auction fetching million one rarest one three black dial models known exist diamond hour watch bought late emperor geneva peace negotiations \n",
      "실제 헤드라인 : of vietnam last sold for record crore \n"
     ]
    },
    {
     "name": "stdout",
     "output_type": "stream",
     "text": [
      "예측 헤드라인 :  world largest diamond sold for crore\n",
      "\n",
      "\n",
      "원문 : president ram nath kovind wished nation happy new year tweeting may bring joy peace prosperity families country beautiful planet meanwhile prime minister narendra modi tweeted wishing everyone may everyone happy healthy pray wishes fulfilled \n",
      "실제 헤드라인 : president kovind pm modi extend greetings on new year \n",
      "예측 헤드라인 :  prez kovind to be in the first time president kovind\n",
      "\n",
      "\n",
      "원문 : several dalit organisations called bharat bandh protest supreme court ruling barring automatic arrest registration cases sc st act court claimed ruling aimed preventing misuse act however dalit groups allege ruling dilute act aimed protect marginalised communities \n",
      "실제 헤드라인 : why have dalit called for bharat bandh \n",
      "예측 헤드라인 :  kerala hc orders bill to hear triple talaq bill\n",
      "\n",
      "\n",
      "원문 : us city removed illegal bob house road sign believed erected resident wanted make easier visitors find house city officials said plan take action owner sign first noticed locals earlier month \n",
      "실제 헤드라인 : city removes illegal bob house sign put up by resident \n",
      "예측 헤드라인 :  us police to face id to find people in\n",
      "\n",
      "\n",
      "원문 : us president donald trump thursday tweeted sad see history culture great country ripped apart removal beautiful statues monuments comes trump blamed sides violence broke virginia charlottesville white nationalist rally opposing city decision remove leader statue \n",
      "실제 헤드라인 : sad to see culture of our great country being trump \n",
      "예측 헤드라인 :  trump calls for calling trump remark\n",
      "\n",
      "\n",
      "원문 : delhi police monday launched manhunt tantrik named baba connection death family burari police earlier said handwritten notes recovered house pointed towards spiritual practices whole family ten deceased found hanging hands mouth tied \n",
      "실제 헤드라인 : police launch hunt for after family of found dead \n",
      "예측 헤드라인 :  delhi police station to death after death\n",
      "\n",
      "\n",
      "원문 : telephone call prime minister narendra modi tuesday chinese president xi jinping said country ready enhance communication india long term strategic bilateral issues promote political mutual trust earlier month chinese foreign ministry said even himalayas cannot stop two nations friendly exchanges political trust \n",
      "실제 헤드라인 : ready to communication with india china prez xi \n",
      "예측 헤드라인 :  pm modi calls india for india prez kovind\n",
      "\n",
      "\n",
      "원문 : bjp mp sakshi maharaj said need sharia law go pakistan adding people right live india believe constitution india governed constitution added remarks reply query reports organisations demanding sharia courts \n",
      "실제 헤드라인 : go to pakistan if you need law bjp mp sakshi maharaj \n",
      "예측 헤드라인 :  pakistan should be held for pakistan bjp mp\n",
      "\n",
      "\n",
      "원문 : national crime records bureau revealed total rape victims himachal pradesh years age according data six victims years age years age notably victims known accused \n",
      "실제 헤드라인 : over rape victims in in himachal were minors \n",
      "예측 헤드라인 :  bihar to death penalty for raping year old rape\n",
      "\n",
      "\n",
      "원문 : north korea leader kim jong un ordered reopening border hotline south korea almost two year long freeze wednesday talks aimed discuss north korea possible participation winter olympics south korea next month comes south korea proposed talks north korea participation \n",
      "실제 헤드라인 : korea to reopen dialogue channel with korea after yrs \n",
      "예측 헤드라인 :  korea kim jong un to visit south korea\n",
      "\n",
      "\n",
      "원문 : nine people including four students arrested connection alleged gangrape class student boarding school uttarakhand remaining five people arrested include school staff attempted suppress case incident reported girl told sister one month pregnant \n",
      "실제 헤드라인 : arrested over minor gangrape in khand boarding school \n",
      "예측 헤드라인 :  students arrested for sexually assaulting minor girl in mp\n",
      "\n",
      "\n",
      "원문 : brazilian footballer roberto carlos scored metre banana free kick direct line goal france june ball axis created pressure difference sides making curve towards goal phenomenon called effect first documented physicist isaac newton \n",
      "실제 헤드라인 : how did carlos score the impossible free kick yrs ago \n",
      "예측 헤드라인 :  player scores goal in seconds to be kick in seconds\n",
      "\n",
      "\n",
      "원문 : police arrested around people violent protests ensued rape conviction dera sacha sauda chief ram rahim singh haryana government said saturday ak two rifles five pistols confiscated dera followers two cases sedition filed panchkula \n",
      "실제 헤드라인 : arrested ak rifles seized from dera followers govt \n",
      "예측 헤드라인 :  arrested in ram rahim for ram rahim verdict\n",
      "\n",
      "\n",
      "원문 : mit scientists including punjabi university alumnus harpreet created robot called connected plant responds need light plant internal signals interpreted robot rolls towards light source scientists said plants electrically active systems occurring nature added \n",
      "실제 헤드라인 : indian researcher at mit makes robot plant that chases light \n",
      "예측 헤드라인 :  scientists develop new new new system\n",
      "\n",
      "\n",
      "원문 : japan based researchers discovered new species shelters solitary corals around seafloor researchers describe move shell shell find good fit corals live grow creating stable relationship \n",
      "실제 헤드라인 : new found species carries its own home \n",
      "예측 헤드라인 :  scientists discover new year old\n",
      "\n",
      "\n",
      "원문 : swedish forward zlatan ibrahimovic side la galaxy match orlando city sc scoring first ever hat trick mls championship sunday ibrahimovic twice scored side goal scoring winner help side beat orlando city sc ibrahimovic goals appearances la galaxy \n",
      "실제 헤드라인 : zlatan wins match for team with his first hat trick \n",
      "예측 헤드라인 :  messi scores goals in seconds to score goals in wc\n",
      "\n",
      "\n",
      "원문 : mumbai police issued statement saying television actress detained murder case mumbai diamond merchant detained us anymore said official speaking said nothing normal investigation \n",
      "실제 헤드라인 : not detained in diamond merchant murder case police \n",
      "예측 헤드라인 :  police asked to kill me if he was not\n",
      "\n",
      "\n",
      "원문 : centre cleared building kartarpur corridor dera baba nanak punjab gurdaspur international border provide pilgrims easy access gurdwara darbar sahib pakistan pakistan urged develop corridor suitable facilities territory home minister rajnath singh tweeted comes ahead guru nanak th birth anniversary next year \n",
      "실제 헤드라인 : india to build kartarpur corridor towards in pak \n",
      "예측 헤드라인 :  centre to provide ceasefire along loc in pak\n",
      "\n",
      "\n",
      "원문 : former indian cricketer virender sehwag tuesday shared pictures time grand slam champion roger federer cows twitter sehwag captioned post cow love legend roger federer wonderful see reacting tweet one users wrote makes roger federer cow friends love grass \n",
      "실제 헤드라인 : sehwag shares pictures of cow love of roger federer \n",
      "예측 헤드라인 :  sehwag shares sehwag on his th birthday\n",
      "\n",
      "\n",
      "원문 : uae airline emirates said fly tonnes relief material kerala support people affected due floods airline said dozen flights transport relief goods include boats blankets dry food items donated various uae based businesses organisations \n",
      "실제 헤드라인 : uae airline to fly tonne relief material for kerala \n",
      "예측 헤드라인 :  uae to give kerala to kerala flood victims\n",
      "\n",
      "\n",
      "원문 : photo sharing platform instagram rolled feature automatically user photo dramatic sound effects users make selfies friends photos even half eaten sandwich instagram wrote blog post feature located boomerang rewind options underneath screen record button \n",
      "실제 헤드라인 : instagram rolls out feature with sound effects \n",
      "예측 헤드라인 :  instagram instagram feature to be made on instagram\n",
      "\n",
      "\n",
      "원문 : vijay mallya lawyer thursday told london court indian jails crowded infested rats cockroaches snakes lawyer presented court instances violence ill treatment jails issue medical assistance jails also raised stating mallya suffers diabetes heart disease \n",
      "실제 헤드라인 : rats cockroaches snakes in indian jails mallya lawyer \n",
      "예측 헤드라인 :  mallya who was not to be in india in india\n",
      "\n",
      "\n",
      "원문 : gold bars valued nearly lakh recovered air india flight goa airport wednesday customs officials found two black containing gold bars seat pocket aircraft gold seized customs act passenger came forward claim ownership \n",
      "실제 헤드라인 : gold worth lakh found in seat pocket of air india plane \n",
      "예측 헤드라인 :  gold worth crore seized at delhi airport\n",
      "\n",
      "\n",
      "원문 : scientists geological survey india studying rare meteorite hit rajasthan june said space rock could origin life rock unlike meteorites contains traces carbon formed early years solar system could help understand evolution said researchers \n",
      "실제 헤드라인 : meteorite that hit rajasthan may help explain origin of life \n"
     ]
    },
    {
     "name": "stdout",
     "output_type": "stream",
     "text": [
      "예측 헤드라인 :  scientists discover new first ever ever\n",
      "\n",
      "\n",
      "원문 : videos tamil actor vijay fans recreating scene movie sarkar throwing away distributed aiadmk government setting ablaze gone viral videos showed youth destroying government given laptops table fans scene sarkar voluntarily cut film makers following objection state ruling party \n",
      "실제 헤드라인 : vijay fans burn after cuts in sarkar videos go viral \n",
      "예측 헤드라인 :  nawazuddin slams film for not on tv show in tamil nadu\n",
      "\n",
      "\n",
      "원문 : tata monday withdrew new clothing line stores receiving several complaints hurting religious sentiments retailer faced backlash ladies suits mantra significant mantra printed front upper side put sale company also issued apology official email \n",
      "실제 헤드라인 : withdraws clothing line that hurt jain sentiments \n",
      "예측 헤드라인 :  tata motors to hire new york brand ad\n",
      "\n",
      "\n",
      "원문 : woman train ireland caught camera making laden comments towards asian passengers disgrace go back india woman said went whole train ride woman posted video online said meanwhile irish rail spokesperson said behaviour like tolerated \n",
      "실제 헤드라인 : go back to india woman at on irish train \n",
      "예측 헤드라인 :  woman who was crew crew crew to be back in\n",
      "\n",
      "\n",
      "원문 : facebook owned photo sharing app instagram used photo read rape advertise facebook reporter olivia discovered photo posted rape threat email turned advertisement using instagram social media algorithms instagram later apologised claimed image used paid promotion \n",
      "실제 헤드라인 : instagram uses will rape you post as ad on facebook \n",
      "예측 헤드라인 :  facebook co founder hacked to facebook on rape case\n",
      "\n",
      "\n"
     ]
    }
   ],
   "source": [
    "for i in range(50, 100):\n",
    "    print(\"원문 :\", seq2text(encoder_input_test[i]))\n",
    "    print(\"실제 헤드라인 :\", seq2headlines(decoder_input_test[i]))\n",
    "    print(\"예측 헤드라인 :\", decode_sequence(encoder_input_test[i].reshape(1, text_max_len)))\n",
    "    print(\"\\n\")"
   ]
  },
  {
   "cell_type": "markdown",
   "id": "cognitive-direction",
   "metadata": {},
   "source": [
    "# 2. 추출적 요약"
   ]
  },
  {
   "cell_type": "code",
   "execution_count": 1,
   "id": "rising-sociology",
   "metadata": {},
   "outputs": [],
   "source": [
    "import urllib.request\n",
    "import pandas as pd\n",
    "\n",
    "urllib.request.urlretrieve(\"https://raw.githubusercontent.com/sunnysai12345/News_Summary/master/news_summary_more.csv\", filename=\"news_summary_more.csv\")\n",
    "data = pd.read_csv('news_summary_more.csv', encoding='iso-8859-1')\n",
    "text = data['text']\n"
   ]
  },
  {
   "cell_type": "code",
   "execution_count": 9,
   "id": "entertaining-collective",
   "metadata": {},
   "outputs": [
    {
     "name": "stdout",
     "output_type": "stream",
     "text": [
      "Headlines:\n",
      "<generator object <genexpr> at 0x7f3fe6858750>\n"
     ]
    }
   ],
   "source": [
    "from summa.summarizer import summarize\n",
    "print('Headlines:')\n",
    "print(summarize(t, word = 10) for t in text)"
   ]
  }
 ],
 "metadata": {
  "kernelspec": {
   "display_name": "Python 3",
   "language": "python",
   "name": "python3"
  },
  "language_info": {
   "codemirror_mode": {
    "name": "ipython",
    "version": 3
   },
   "file_extension": ".py",
   "mimetype": "text/x-python",
   "name": "python",
   "nbconvert_exporter": "python",
   "pygments_lexer": "ipython3",
   "version": "3.7.9"
  }
 },
 "nbformat": 4,
 "nbformat_minor": 5
}
